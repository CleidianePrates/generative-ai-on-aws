{
 "cells": [
  {
   "cell_type": "code",
   "execution_count": null,
   "id": "082e26c4-6c5c-47a1-afb5-1954eaf39f36",
   "metadata": {},
   "outputs": [],
   "source": []
  }
 ],
 "metadata": {
  "kernelspec": {
   "display_name": "",
   "name": ""
  },
  "language_info": {
   "name": ""
  }
 },
 "nbformat": 4,
 "nbformat_minor": 5
}
