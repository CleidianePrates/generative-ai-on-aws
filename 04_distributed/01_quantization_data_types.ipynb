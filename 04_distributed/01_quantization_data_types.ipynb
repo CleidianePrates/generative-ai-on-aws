{
 "cells": [
  {
   "cell_type": "code",
   "execution_count": 1,
   "id": "b1c29809-ee50-407b-b932-d03fbba2644e",
   "metadata": {},
   "outputs": [],
   "source": [
    "#!pip install torch"
   ]
  },
  {
   "cell_type": "markdown",
   "id": "f7aa5709-d18e-4fa5-b4a7-442aa7e88e19",
   "metadata": {},
   "source": [
    "https://pytorch.org/docs/stable/tensors.html"
   ]
  },
  {
   "cell_type": "code",
   "execution_count": 2,
   "id": "c0de5ce4-18a0-44bb-89dc-7ec50f0d9c77",
   "metadata": {},
   "outputs": [],
   "source": [
    "import torch"
   ]
  },
  {
   "cell_type": "markdown",
   "id": "bed35346-aade-4e22-a0ca-84055663c364",
   "metadata": {
    "tags": []
   },
   "source": [
    "# Functions to convert from real to FP32, FP16, BFLOAT16, INT8"
   ]
  },
  {
   "cell_type": "markdown",
   "id": "d79941f5-60cf-4341-b53d-86a2aa93b809",
   "metadata": {},
   "source": [
    "### Show memory footprint"
   ]
  },
  {
   "cell_type": "code",
   "execution_count": 3,
   "id": "3817d47f-b158-49b4-9207-9669c6133083",
   "metadata": {},
   "outputs": [],
   "source": [
    "def show_memory_comsumption(tensor):\n",
    "    memory_bytes = tensor.element_size() * tensor.numel()\n",
    "    print(\"Tensor memory consumption:\", memory_bytes, \"bytes\")"
   ]
  },
  {
   "cell_type": "markdown",
   "id": "5608fd78-8c9f-4ce0-b3a4-6991f74680f8",
   "metadata": {},
   "source": [
    "### Show binary tensor values"
   ]
  },
  {
   "cell_type": "code",
   "execution_count": 4,
   "id": "b81bab4f-b07a-4296-b19d-c075f0a9d806",
   "metadata": {},
   "outputs": [],
   "source": [
    "def show_binary_tensor_values(tensor):\n",
    "    \n",
    "    if tensor.dtype==torch.float32:\n",
    "        # Access the underlying data as 32-bit integer\n",
    "        bits = tensor.view(torch.int32).item()\n",
    "        binary_repr = bin(bits)\n",
    "        print(\"Binary: \", binary_repr)      \n",
    "        print(\"Binary representation: \", format(bits, '031b'))\n",
    "\n",
    "    elif tensor.dtype==torch.float16:\n",
    "        bits = tensor.view(torch.int16).item()\n",
    "        binary_repr = bin(bits)\n",
    "        print(\"Binary: \", binary_repr) \n",
    "        print(\"Binary representation: \", format(bits, '015b'))\n",
    "\n",
    "    \n",
    "    elif tensor.dtype==torch.bfloat16:\n",
    "        bits = tensor.view(torch.int16).item()\n",
    "        binary_repr = bin(bits)\n",
    "        print(\"Binary: \", binary_repr) \n",
    "        print(\"Binary representation: \", format(bits, '015b'))\n",
    "\n",
    "\n",
    "    elif tensor.dtype==torch.int8:\n",
    "        bits = tensor.view(torch.int8).item()\n",
    "        binary_repr = bin(bits)\n",
    "        print(\"Binary: \", binary_repr) \n",
    "        print(\"Binary representation: \", format(bits, '07b'))\n"
   ]
  },
  {
   "cell_type": "markdown",
   "id": "9afdb8e5-d7fe-47aa-b568-eb9be0b94818",
   "metadata": {},
   "source": [
    "### dtype conversions"
   ]
  },
  {
   "cell_type": "code",
   "execution_count": 5,
   "id": "17cae21d-466b-40fa-83f9-08a0f20f59f5",
   "metadata": {},
   "outputs": [],
   "source": [
    "def convert_to_fp32(value):\n",
    "    tensor = torch.tensor(value)\n",
    "    float32_tensor = tensor.float()\n",
    "    print(float32_tensor.dtype)\n",
    "    show_memory_comsumption(float32_tensor)\n",
    "    show_binary_tensor_values(float32_tensor)\n",
    "    return float32_tensor\n",
    "\n",
    "def convert_to_fp16(value):\n",
    "    tensor = torch.tensor(value)\n",
    "    float16_tensor = tensor.half()\n",
    "    show_memory_comsumption(float16_tensor)\n",
    "    show_binary_tensor_values(float16_tensor)\n",
    "    return float16_tensor\n",
    "\n",
    "def convert_to_bfloat16(value):\n",
    "    tensor = torch.tensor(value)\n",
    "    bfloat16_tensor = tensor.bfloat16()\n",
    "    show_memory_comsumption(bfloat16_tensor)\n",
    "    show_binary_tensor_values(bfloat16_tensor)\n",
    "    return bfloat16_tensor\n",
    "\n",
    "def convert_to_int8(value):\n",
    "    tensor = torch.tensor(value)\n",
    "    int8_tensor = tensor.to(torch.int8)\n",
    "    show_memory_comsumption(int8_tensor)\n",
    "    show_binary_tensor_values(int8_tensor)\n",
    "    return int8_tensor"
   ]
  },
  {
   "cell_type": "markdown",
   "id": "e1205524-968f-412c-aee3-4a31516c9083",
   "metadata": {},
   "source": [
    "# Set real number"
   ]
  },
  {
   "cell_type": "code",
   "execution_count": 78,
   "id": "bcaa69cf-ae31-46af-97f1-846801b58922",
   "metadata": {},
   "outputs": [],
   "source": [
    "#real_number = 3.141592653589793238\n",
    "#real_number = 3.1415926535\n",
    "#real_number = 3.141592\n",
    "real_number = 3.141592\n",
    "#real_number = 500.141592653589793238"
   ]
  },
  {
   "cell_type": "markdown",
   "id": "c3a999c0-ad63-4581-b9f0-881590acd4ce",
   "metadata": {
    "tags": []
   },
   "source": [
    "# Convert"
   ]
  },
  {
   "cell_type": "code",
   "execution_count": 79,
   "id": "6ba14adc-ce4c-4c24-9a56-154eebda2ee3",
   "metadata": {},
   "outputs": [],
   "source": [
    "torch.set_printoptions(precision=64)"
   ]
  },
  {
   "cell_type": "markdown",
   "id": "26cc8711-6fb3-4a10-bd5b-1b5a8b6d3552",
   "metadata": {},
   "source": [
    "## FP32"
   ]
  },
  {
   "cell_type": "code",
   "execution_count": 80,
   "id": "d78e32e5-0b5b-4e76-9b77-64f6dba665a5",
   "metadata": {},
   "outputs": [
    {
     "data": {
      "text/plain": [
       "finfo(resolution=1e-06, min=-3.40282e+38, max=3.40282e+38, eps=1.19209e-07, smallest_normal=1.17549e-38, tiny=1.17549e-38, dtype=float32)"
      ]
     },
     "execution_count": 80,
     "metadata": {},
     "output_type": "execute_result"
    }
   ],
   "source": [
    "torch.finfo(torch.float32)"
   ]
  },
  {
   "cell_type": "code",
   "execution_count": 81,
   "id": "1df2e2bf-92c7-4cfc-ae88-e1dc14fdb22a",
   "metadata": {},
   "outputs": [],
   "source": [
    "float64_test = torch.tensor(real_number, dtype=torch.float64)\n",
    "float32_test = torch.tensor(real_number, dtype=torch.float32)"
   ]
  },
  {
   "cell_type": "code",
   "execution_count": 82,
   "id": "6ac756f5-1dc3-40ab-be25-7f51608fb8ef",
   "metadata": {},
   "outputs": [
    {
     "name": "stdout",
     "output_type": "stream",
     "text": [
      "3.141592\n",
      "3.141592025756836\n"
     ]
    }
   ],
   "source": [
    "print(float64_test.item())\n",
    "print(float32_test.item())"
   ]
  },
  {
   "cell_type": "code",
   "execution_count": 83,
   "id": "570d7ac6-5fe4-408f-91f7-01a0ff7ed928",
   "metadata": {},
   "outputs": [
    {
     "data": {
      "text/plain": [
       "tensor(3.1415920000000001621742740098852664232254028320312500000000000000,\n",
       "       dtype=torch.float64)"
      ]
     },
     "execution_count": 83,
     "metadata": {},
     "output_type": "execute_result"
    }
   ],
   "source": [
    "float64_test"
   ]
  },
  {
   "cell_type": "code",
   "execution_count": 84,
   "id": "860c7522-1152-48e0-9288-a1830aef83ea",
   "metadata": {},
   "outputs": [
    {
     "data": {
      "text/plain": [
       "tensor(3.1415920257568359375000000000000000000000000000000000000000000000)"
      ]
     },
     "execution_count": 84,
     "metadata": {},
     "output_type": "execute_result"
    }
   ],
   "source": [
    "float32_test"
   ]
  },
  {
   "cell_type": "code",
   "execution_count": 85,
   "id": "c21d4ae4-6bd9-4e48-9241-36a379fe46d4",
   "metadata": {},
   "outputs": [
    {
     "name": "stdout",
     "output_type": "stream",
     "text": [
      "torch.float32\n",
      "Tensor memory consumption: 4 bytes\n",
      "Binary:  0b1000000010010010000111111011000\n",
      "Binary representation:  1000000010010010000111111011000\n",
      "FP32 value: 3.141592025756836 tensor(3.1415920257568359375000000000000000000000000000000000000000000000)\n"
     ]
    }
   ],
   "source": [
    "# Convert to FP32\n",
    "fp32_number = convert_to_fp32(real_number)\n",
    "print(\"FP32 value:\", fp32_number.item(), fp32_number)\n",
    "\n",
    "# # Convert back to real number\n",
    "# real_number_from_fp32 = float(fp32_number)\n",
    "# print(\"Real number from FP32:\", real_number_from_fp32)"
   ]
  },
  {
   "cell_type": "markdown",
   "id": "4435a3b8-fe78-4da4-a35f-14caf5631b39",
   "metadata": {
    "tags": []
   },
   "source": [
    "## FP16"
   ]
  },
  {
   "cell_type": "code",
   "execution_count": 86,
   "id": "a2d45b00-05e3-4530-a2ca-034a1e7b84b5",
   "metadata": {},
   "outputs": [
    {
     "data": {
      "text/plain": [
       "finfo(resolution=0.001, min=-65504, max=65504, eps=0.000976562, smallest_normal=6.10352e-05, tiny=6.10352e-05, dtype=float16)"
      ]
     },
     "execution_count": 86,
     "metadata": {},
     "output_type": "execute_result"
    }
   ],
   "source": [
    "torch.finfo(torch.float16)"
   ]
  },
  {
   "cell_type": "code",
   "execution_count": 87,
   "id": "7966bf4f-98dd-4826-904d-818fa9be7d57",
   "metadata": {},
   "outputs": [
    {
     "name": "stdout",
     "output_type": "stream",
     "text": [
      "Tensor memory consumption: 2 bytes\n",
      "Binary:  0b100001001001000\n",
      "Binary representation:  100001001001000\n",
      "FP16 value: 3.140625 tensor(3.1406250000000000000000000000000000000000000000000000000000000000,\n",
      "       dtype=torch.float16)\n"
     ]
    }
   ],
   "source": [
    "# Convert to FP16\n",
    "fp16_number = convert_to_fp16(real_number)\n",
    "print(\"FP16 value:\", fp16_number.item(), fp16_number)\n",
    "\n",
    "# # Convert back to real number\n",
    "# real_number_from_fp16 = float(fp16_number)\n",
    "# print(\"Real number from FP16:\", real_number_from_fp16)"
   ]
  },
  {
   "cell_type": "markdown",
   "id": "fea898fa-9804-4cd8-9c98-60b2ab5cefa0",
   "metadata": {},
   "source": [
    "## INT8"
   ]
  },
  {
   "cell_type": "code",
   "execution_count": 88,
   "id": "1bae2c2a-f5d6-48e1-b9bc-32abb641e95c",
   "metadata": {},
   "outputs": [
    {
     "data": {
      "text/plain": [
       "iinfo(min=-128, max=127, dtype=int8)"
      ]
     },
     "execution_count": 88,
     "metadata": {},
     "output_type": "execute_result"
    }
   ],
   "source": [
    "torch.iinfo(torch.int8)"
   ]
  },
  {
   "cell_type": "code",
   "execution_count": 89,
   "id": "a8dc9866-dd8f-4d3b-b79e-0fca4fc91667",
   "metadata": {},
   "outputs": [
    {
     "name": "stdout",
     "output_type": "stream",
     "text": [
      "Tensor memory consumption: 1 bytes\n",
      "Binary:  0b11\n",
      "Binary representation:  0000011\n",
      "INT8 value: 3 tensor(3, dtype=torch.int8)\n"
     ]
    }
   ],
   "source": [
    "# Convert to INT8\n",
    "int8_number = convert_to_int8(real_number)\n",
    "print(\"INT8 value:\", int8_number.item(),int8_number)"
   ]
  },
  {
   "cell_type": "markdown",
   "id": "adfe1eb5-884f-4b5f-badc-6d464fecd1ca",
   "metadata": {},
   "source": [
    "## BFLOAT16"
   ]
  },
  {
   "cell_type": "code",
   "execution_count": 90,
   "id": "75e0f878-15c2-42bd-bbd7-6e99cbc9da89",
   "metadata": {},
   "outputs": [
    {
     "data": {
      "text/plain": [
       "finfo(resolution=0.01, min=-3.38953e+38, max=3.38953e+38, eps=0.0078125, smallest_normal=1.17549e-38, tiny=1.17549e-38, dtype=bfloat16)"
      ]
     },
     "execution_count": 90,
     "metadata": {},
     "output_type": "execute_result"
    }
   ],
   "source": [
    "torch.finfo(torch.bfloat16)"
   ]
  },
  {
   "cell_type": "code",
   "execution_count": 91,
   "id": "c44c9546-dbe0-42b7-ae05-f4df375e1257",
   "metadata": {},
   "outputs": [
    {
     "name": "stdout",
     "output_type": "stream",
     "text": [
      "Tensor memory consumption: 2 bytes\n",
      "Binary:  0b100000001001001\n",
      "Binary representation:  100000001001001\n",
      "BFLOAT16 value: 3.140625 tensor(3.1406250000000000000000000000000000000000000000000000000000000000,\n",
      "       dtype=torch.bfloat16)\n"
     ]
    }
   ],
   "source": [
    "# Convert to BFLOAT16\n",
    "bfloat16_number = convert_to_bfloat16(real_number)\n",
    "print(\"BFLOAT16 value:\", bfloat16_number.item(), bfloat16_number)\n",
    "\n",
    "# # Convert back to real number\n",
    "# real_number_from_bfloat16 = float(bfloat16_number)\n",
    "# print(\"Real number from BFLOAT16:\", real_number_from_bfloat16)"
   ]
  }
 ],
 "metadata": {
  "kernelspec": {
   "display_name": "default:Python",
   "language": "python",
   "name": "conda-env-default-py"
  },
  "language_info": {
   "codemirror_mode": {
    "name": "ipython",
    "version": 3
   },
   "file_extension": ".py",
   "mimetype": "text/x-python",
   "name": "python",
   "nbconvert_exporter": "python",
   "pygments_lexer": "ipython3",
   "version": "3.9.13"
  }
 },
 "nbformat": 4,
 "nbformat_minor": 5
}
