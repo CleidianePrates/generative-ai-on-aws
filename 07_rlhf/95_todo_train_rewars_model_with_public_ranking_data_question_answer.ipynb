{
 "cells": [
  {
   "cell_type": "markdown",
   "id": "7770f11b-b09e-4e02-a24d-a79ee0cc1653",
   "metadata": {
    "tags": []
   },
   "source": [
    "# Explore the reward dataset used to improve the model's helpfulness\n",
    "\n",
    "https://huggingface.co/datasets/lvwerra/stack-exchange-paired/viewer/lvwerra--stack-exchange-paired/train"
   ]
  },
  {
   "cell_type": "code",
   "execution_count": null,
   "id": "6b2cdeb5-ae1e-43df-b5ff-356ed6c7b779",
   "metadata": {
    "tags": []
   },
   "outputs": [],
   "source": [
    "%pip install torch==1.13.1 torchdata"
   ]
  },
  {
   "cell_type": "code",
   "execution_count": null,
   "id": "bd9e2b97-4359-462c-96ab-c61d7a252360",
   "metadata": {
    "tags": []
   },
   "outputs": [],
   "source": [
    "%pip install --disable-pip-version-check -q \\\n",
    "    transformers==4.27.2 \\\n",
    "    datasets==2.9.0 \\\n",
    "    accelerate==0.17.0 \\\n",
    "    evaluate==0.4.0 \\\n",
    "    trl==0.4.1 \\\n",
    "    rouge_score==0.1.2 \\\n",
    "    loralib==0.1.1"
   ]
  },
  {
   "cell_type": "code",
   "execution_count": null,
   "id": "d9aa2acf-0806-4379-a7e8-a6ff2f5970f0",
   "metadata": {
    "tags": []
   },
   "outputs": [],
   "source": [
    "!pip install git+https://github.com/huggingface/peft.git"
   ]
  },
  {
   "cell_type": "code",
   "execution_count": null,
   "id": "cdb6de36-ac03-47ff-84a5-a3982b75d266",
   "metadata": {
    "tags": []
   },
   "outputs": [],
   "source": [
    "!pip install git+https://github.com/lvwerra/trl.git"
   ]
  },
  {
   "cell_type": "code",
   "execution_count": 88,
   "id": "8f5fc934-26c5-4bce-a647-60e3b16ff7e4",
   "metadata": {
    "tags": []
   },
   "outputs": [
    {
     "name": "stdout",
     "output_type": "stream",
     "text": [
      "ScriptArguments(local_rank=-1, resume_from_checkpoint=False, deepspeed=None, per_device_train_batch_size=4, per_device_eval_batch_size=1, gradient_accumulation_steps=1, learning_rate=2e-05, weight_decay=0.001, model_name='roberta-base', bf16=True, num_train_epochs=1, train_subset=100000, eval_subset=50000, gradient_checkpointing=False, optim='adamw_hf', lr_scheduler_type='linear', max_length=512)\n"
     ]
    }
   ],
   "source": [
    "# reward_modeling.py\n",
    "\n",
    "from dataclasses import dataclass, field\n",
    "from typing import Any, Dict, List, Optional, Union\n",
    "\n",
    "import evaluate\n",
    "import numpy as np\n",
    "import torch\n",
    "import torch.nn as nn\n",
    "from datasets import load_dataset\n",
    "from peft import LoraConfig, TaskType, get_peft_model\n",
    "from transformers import (\n",
    "    AutoConfig,\n",
    "    AutoModelForSequenceClassification,\n",
    "    AutoTokenizer,\n",
    "    HfArgumentParser,\n",
    "    PreTrainedTokenizerBase,\n",
    "    Trainer,\n",
    "    TrainingArguments,\n",
    ")\n",
    "from transformers.utils import PaddingStrategy\n",
    "\n",
    "# Define and parse arguments.\n",
    "@dataclass\n",
    "class ScriptArguments:\n",
    "    \"\"\"\n",
    "    These arguments vary depending on how many GPUs you have, what their capacity and features are, and what size model you want to train.\n",
    "    \"\"\"\n",
    "\n",
    "    local_rank: Optional[int] = field(default=-1, metadata={\"help\": \"Used for multi-gpu\"})\n",
    "    resume_from_checkpoint: Optional[bool] = field(\n",
    "        default=False,\n",
    "        metadata={\"help\": \"If you want to resume training where it left off.\"},\n",
    "    )\n",
    "    deepspeed: Optional[str] = field(\n",
    "        default=None,\n",
    "        metadata={\n",
    "            \"help\": \"Path to deepspeed config if using deepspeed. You may need this if the model that you want to train doesn't fit on a single GPU.\"\n",
    "        },\n",
    "    )\n",
    "    per_device_train_batch_size: Optional[int] = field(default=4)\n",
    "    per_device_eval_batch_size: Optional[int] = field(default=1)\n",
    "    gradient_accumulation_steps: Optional[int] = field(default=1)\n",
    "    learning_rate: Optional[float] = field(default=2e-5)\n",
    "    weight_decay: Optional[int] = field(default=0.001)\n",
    "    model_name: Optional[str] = field(        \n",
    "        #default=\"gpt2\",\n",
    "        #default=\"EleutherAI/gpt-neo-125m\",\n",
    "        default=\"roberta-base\",\n",
    "        metadata={\n",
    "            \"help\": \"The model that you want to train from the Hugging Face hub. E.g. gpt2, gpt2-xl, bert, etc.\"\n",
    "        },\n",
    "    )\n",
    "    bf16: Optional[bool] = field(\n",
    "        default=True,\n",
    "        metadata={\n",
    "            \"help\": \"This essentially cuts the training time in half if you want to sacrifice a little precision and have a supported GPU.\"\n",
    "        },\n",
    "    )\n",
    "    num_train_epochs: Optional[int] = field(\n",
    "        default=1,\n",
    "        metadata={\"help\": \"The number of training epochs for the reward model.\"},\n",
    "    )\n",
    "    train_subset: Optional[int] = field(\n",
    "        default=100000,\n",
    "        metadata={\"help\": \"The size of the subset of the training data to use\"},\n",
    "    )\n",
    "    eval_subset: Optional[int] = field(\n",
    "        default=50000,\n",
    "        metadata={\"help\": \"The size of the subset of the eval data to use\"},\n",
    "    )\n",
    "    gradient_checkpointing: Optional[bool] = field(\n",
    "        default=False,\n",
    "        metadata={\"help\": \"Enables gradient checkpointing.\"},\n",
    "    )\n",
    "    optim: Optional[str] = field(\n",
    "        default=\"adamw_hf\",\n",
    "        metadata={\"help\": \"Enables gradient checkpointing.\"},\n",
    "    )\n",
    "    lr_scheduler_type: Optional[str] = field(\n",
    "        default=\"linear\",\n",
    "        metadata={\"help\": \"The lr scheduler\"},\n",
    "    )\n",
    "    max_length: Optional[int] = field(\n",
    "        default=512\n",
    "    )\n",
    "\n",
    "\n",
    "parser = HfArgumentParser(ScriptArguments)\n",
    "script_args = parser.parse_args_into_dataclasses(return_remaining_strings=True)[0]\n",
    "print(script_args)"
   ]
  },
  {
   "cell_type": "code",
   "execution_count": 94,
   "id": "28b9eb14-ac48-4e00-8eae-9641fdcaf290",
   "metadata": {
    "tags": []
   },
   "outputs": [
    {
     "name": "stderr",
     "output_type": "stream",
     "text": [
      "Using custom data configuration lvwerra--stack-exchange-paired-72b1ccbd85cc93aa\n",
      "Found cached dataset parquet (/root/.cache/huggingface/datasets/lvwerra___parquet/lvwerra--stack-exchange-paired-72b1ccbd85cc93aa/0.0.0/2a3b91fbd88a2c90d1dbbb32b460cf621d31bd5b05b934492fdef7d8d6f236ec)\n",
      "Using custom data configuration lvwerra--stack-exchange-paired-b55353e62cc7a74b\n",
      "Found cached dataset parquet (/root/.cache/huggingface/datasets/lvwerra___parquet/lvwerra--stack-exchange-paired-b55353e62cc7a74b/0.0.0/2a3b91fbd88a2c90d1dbbb32b460cf621d31bd5b05b934492fdef7d8d6f236ec)\n"
     ]
    }
   ],
   "source": [
    "# Load the human stack-exchange-paired dataset for training the reward model.\n",
    "train_dataset = load_dataset(\"lvwerra/stack-exchange-paired\", data_dir=\"data/reward\", split=\"train\")\n",
    "if script_args.train_subset > 0:\n",
    "    train_dataset = train_dataset.select(range(script_args.train_subset))\n",
    "\n",
    "validation_dataset = load_dataset(\"lvwerra/stack-exchange-paired\", data_dir=\"data/evaluation\", split=\"train\")\n",
    "if script_args.eval_subset > 0:\n",
    "    validation_dataset = validation_dataset.select(range(script_args.eval_subset))"
   ]
  },
  {
   "cell_type": "code",
   "execution_count": null,
   "id": "e348fe91-25e1-4f4b-a08e-79593343ed60",
   "metadata": {},
   "outputs": [],
   "source": []
  },
  {
   "cell_type": "code",
   "execution_count": null,
   "id": "c49bbb13-ef9c-447d-8fcc-72e82ee9b349",
   "metadata": {
    "tags": []
   },
   "outputs": [],
   "source": [
    "model_name_split = script_args.model_name.split(\"/\")[-1]\n",
    "# output_name = (\n",
    "#     f\"{model_name_split}_peft_stack-exchange-paired_rmts__{script_args.train_subset}_{script_args.learning_rate}\"\n",
    "# )\n",
    "\n",
    "\n",
    "# Load the value-head model and tokenizer.\n",
    "config = AutoConfig.from_pretrained(script_args.model_name)\n",
    "\n",
    "peft_config = LoraConfig(\n",
    "    task_type=TaskType.SEQ_CLS,\n",
    "    inference_mode=False,\n",
    "    r=8, # rank\n",
    "    lora_alpha=32,\n",
    "    lora_dropout=0.1,\n",
    ")\n",
    "\n",
    "peft_ranking_reward_public_qanda_model_base = AutoModelForSequenceClassification.from_pretrained(\n",
    "    script_args.model_name, num_labels=1, torch_dtype=torch.bfloat16\n",
    ")\n",
    "peft_ranking_reward_public_qanda_model = get_peft_model(peft_ranking_reward_public_qanda_model_base, peft_config)\n",
    "peft_ranking_reward_public_qanda_model.print_trainable_parameters()\n",
    "#peft_rl_ranking_reward_public_dataset_model.config.pad_token_id = tokenizer.eos_token_id # needed for gpt2, gpt-neo, etc\n",
    "#peft_rl_ranking_reward_public_dataset_model.config.use_cache = not script_args.gradient_checkpointing\n",
    "\n",
    "tokenizer = AutoTokenizer.from_pretrained(script_args.model_name)\n",
    "# tokenizer.pad_token = tokenizer.eos_token # needed for gpt2, gpt-neo\n",
    "\n",
    "num_proc = 24  # Can adjust to be higher if you have more processors."
   ]
  },
  {
   "cell_type": "code",
   "execution_count": null,
   "id": "4c2c86af-77ee-4bd6-8353-16bd37534032",
   "metadata": {
    "tags": []
   },
   "outputs": [],
   "source": [
    "# Turn the dataset into pairs of post + summaries, where text_j is the preferred question + answer and text_k is the other.\n",
    "# Then tokenize the dataset.\n",
    "def preprocess_function(examples):\n",
    "    new_examples = {\n",
    "        \"input_ids_j\": [],\n",
    "        \"attention_mask_j\": [],\n",
    "        \"input_ids_k\": [],\n",
    "        \"attention_mask_k\": [],\n",
    "    }\n",
    "    for question, response_j, response_k in zip(examples[\"question\"], examples[\"response_j\"], examples[\"response_k\"]):\n",
    "        tokenized_j = tokenizer(\"Question: \" + question + \"\\n\\nAnswer: \" + response_j, truncation=True)\n",
    "        tokenized_k = tokenizer(\"Question: \" + question + \"\\n\\nAnswer: \" + response_k, truncation=True)\n",
    "\n",
    "        new_examples[\"input_ids_j\"].append(tokenized_j[\"input_ids\"])\n",
    "        new_examples[\"attention_mask_j\"].append(tokenized_j[\"attention_mask\"])\n",
    "        new_examples[\"input_ids_k\"].append(tokenized_k[\"input_ids\"])\n",
    "        new_examples[\"attention_mask_k\"].append(tokenized_k[\"attention_mask\"])\n",
    "\n",
    "    return new_examples"
   ]
  },
  {
   "cell_type": "code",
   "execution_count": null,
   "id": "e480f2a3-3c9e-43c2-b1a6-cda1a646508f",
   "metadata": {},
   "outputs": [],
   "source": [
    "original_columns = train_dataset.column_names\n",
    "\n",
    "# preprocess the dataset and filter out QAs that are longer than script_args.max_length\n",
    "train_dataset = train_dataset.map(preprocess_function, batched=True, num_proc=num_proc, remove_columns=original_columns)\n",
    "train_dataset = train_dataset.filter(lambda x: len(x[\"input_ids_j\"]) <= script_args.max_length and len(x[\"input_ids_k\"]) <= script_args.max_length)"
   ]
  },
  {
   "cell_type": "code",
   "execution_count": null,
   "id": "421434dd-a734-4081-b346-dcc1e8fbbe30",
   "metadata": {
    "tags": []
   },
   "outputs": [],
   "source": [
    "validation_dataset = validation_dataset.map(preprocess_function, batched=True, num_proc=num_proc, remove_columns=original_columns)\n",
    "validation_dataset = validation_dataset.filter(lambda x: len(x[\"input_ids_j\"]) <= script_args.max_length and len(x[\"input_ids_k\"]) <= script_args.max_length)"
   ]
  },
  {
   "cell_type": "code",
   "execution_count": 44,
   "id": "db988cbe-e3d6-46c7-9633-16e023645a08",
   "metadata": {
    "tags": []
   },
   "outputs": [],
   "source": [
    "# We need to define a special data collator that batches the data in our j vs k format.\n",
    "@dataclass\n",
    "class RewardDataCollatorWithPadding:\n",
    "    tokenizer: PreTrainedTokenizerBase\n",
    "    padding: Union[bool, str, PaddingStrategy] = True\n",
    "    max_length: Optional[int] = None\n",
    "    pad_to_multiple_of: Optional[int] = None\n",
    "    return_tensors: str = \"pt\"\n",
    "\n",
    "    def __call__(self, features: List[Dict[str, Any]]) -> Dict[str, Any]:\n",
    "        features_j = []\n",
    "        features_k = []\n",
    "        for feature in features:\n",
    "            features_j.append(\n",
    "                {\n",
    "                    \"input_ids\": feature[\"input_ids_j\"],\n",
    "                    \"attention_mask\": feature[\"attention_mask_j\"],\n",
    "                }\n",
    "            )\n",
    "            features_k.append(\n",
    "                {\n",
    "                    \"input_ids\": feature[\"input_ids_k\"],\n",
    "                    \"attention_mask\": feature[\"attention_mask_k\"],\n",
    "                }\n",
    "            )\n",
    "        batch_j = self.tokenizer.pad(\n",
    "            features_j,\n",
    "            padding=self.padding,\n",
    "            max_length=self.max_length,\n",
    "            pad_to_multiple_of=self.pad_to_multiple_of,\n",
    "            return_tensors=self.return_tensors,\n",
    "        )\n",
    "        batch_k = self.tokenizer.pad(\n",
    "            features_k,\n",
    "            padding=self.padding,\n",
    "            max_length=self.max_length,\n",
    "            pad_to_multiple_of=self.pad_to_multiple_of,\n",
    "            return_tensors=self.return_tensors,\n",
    "        )\n",
    "        batch = {\n",
    "            \"input_ids_j\": batch_j[\"input_ids\"],\n",
    "            \"attention_mask_j\": batch_j[\"attention_mask\"],\n",
    "            \"input_ids_k\": batch_k[\"input_ids\"],\n",
    "            \"attention_mask_k\": batch_k[\"attention_mask\"],\n",
    "            \"return_loss\": True,\n",
    "        }\n",
    "        \n",
    "        # print(batch)\n",
    "        \n",
    "        return batch"
   ]
  },
  {
   "cell_type": "code",
   "execution_count": 91,
   "id": "6da928dc-dddf-49e2-a39c-a5d745b24a59",
   "metadata": {
    "tags": []
   },
   "outputs": [],
   "source": [
    "# Define the metric that we'll use for validation.\n",
    "accuracy = evaluate.load(\"accuracy\")\n",
    "\n",
    "def compute_metrics(eval_pred):\n",
    "    predictions, _ = eval_pred\n",
    "    # Here, predictions is rewards_j and rewards_k.\n",
    "    # We want to see how much of the time rewards_j > rewards_k.\n",
    "    predictions = np.argmax(predictions, axis=0)\n",
    "    #print('predictions {}'.format(predictions))\n",
    "    labels = np.zeros(predictions.shape)\n",
    "    #print('labels {}'.format(labels))\n",
    "    metrics = accuracy.compute(predictions=predictions, references=labels)\n",
    "    #print('metrics {}'.format(metrics))\n",
    "    return metrics\n",
    "\n",
    "\n",
    "class RewardTrainer(Trainer):\n",
    "    # Define how to compute the reward loss. We use the InstructGPT pairwise logloss: https://arxiv.org/abs/2203.02155\n",
    "    def compute_loss(self, model, inputs, return_outputs=False):\n",
    "        predicted_rewards_j = model(input_ids=inputs[\"input_ids_j\"], attention_mask=inputs[\"attention_mask_j\"])[0]\n",
    "        print('shape rewards_j: {}'.format(predicted_rewards_j.shape))        \n",
    "        \n",
    "        predicted_rewards_k = model(input_ids=inputs[\"input_ids_k\"], attention_mask=inputs[\"attention_mask_k\"])[0]\n",
    "        print('shape rewards_k: {}'.format(predicted_rewards_k.shape))\n",
    "        \n",
    "        loss = -nn.functional.logsigmoid(predicted_rewards_j - predicted_rewards_k).mean()\n",
    "        \n",
    "        print('return_outputs {}'.format({\"loss\": loss, \"rewards_j\": predicted_rewards_j, \"rewards_k\": predicted_rewards_k}))\n",
    "        if return_outputs:\n",
    "            return loss, {\"rewards_j\": predicted_rewards_j, \"rewards_k\": predicted_rewards_k}\n",
    "        return loss\n"
   ]
  },
  {
   "cell_type": "code",
   "execution_count": 92,
   "id": "19e84b9b-707f-4af2-ac7b-8d0e4f9348b0",
   "metadata": {
    "tags": []
   },
   "outputs": [],
   "source": [
    "peft_ranking_reward_public_qanda_checkpoint='./peft_ranking_reward_public_qanda/'\n",
    "    \n",
    "# Define the training args. Needs to be done before the model is loaded if you are using deepspeed.\n",
    "training_args = TrainingArguments(\n",
    "    output_dir=peft_ranking_reward_public_qanda_checkpoint,\n",
    "    learning_rate=script_args.learning_rate,\n",
    "    per_device_train_batch_size=script_args.per_device_train_batch_size,\n",
    "    per_device_eval_batch_size=script_args.per_device_eval_batch_size,\n",
    "    num_train_epochs=script_args.num_train_epochs,\n",
    "    weight_decay=script_args.weight_decay,\n",
    "\n",
    "#   evaluation_strategy=\"steps\",\n",
    "#   eval_steps=500,\n",
    "#   save_strategy=\"steps\",\n",
    "#   save_steps=500,\n",
    "    \n",
    "#    gradient_accumulation_steps=script_args.gradient_accumulation_steps,\n",
    "#    gradient_checkpointing=script_args.gradient_checkpointing,\n",
    "#    deepspeed=script_args.deepspeed,\n",
    "    local_rank=script_args.local_rank,\n",
    "    remove_unused_columns=False,\n",
    "    label_names=[],\n",
    "    bf16=script_args.bf16,\n",
    "    logging_strategy=\"steps\",\n",
    "    logging_steps=1, # was 1000\n",
    "    max_steps=10, # was 1000\n",
    "    optim=script_args.optim,\n",
    "    lr_scheduler_type=script_args.lr_scheduler_type,\n",
    ")\n",
    "\n",
    "# Train the reward model, finally!\n",
    "reward_trainer = RewardTrainer(\n",
    "    model=peft_ranking_reward_public_qanda_model,\n",
    "    args=training_args,\n",
    "    train_dataset=train_dataset,\n",
    "    eval_dataset=validation_dataset,\n",
    "    compute_metrics=compute_metrics,\n",
    "    data_collator=RewardDataCollatorWithPadding(tokenizer=tokenizer, max_length=script_args.max_length),\n",
    ")"
   ]
  },
  {
   "cell_type": "code",
   "execution_count": 93,
   "id": "29930aae-afa1-4d68-be93-deeff0fa0556",
   "metadata": {
    "tags": []
   },
   "outputs": [
    {
     "name": "stdout",
     "output_type": "stream",
     "text": [
      "shape rewards_j: torch.Size([4, 1])\n",
      "shape rewards_k: torch.Size([4, 1])\n",
      "return_outputs {'loss': tensor(0.5078, device='cuda:0', dtype=torch.bfloat16, grad_fn=<NegBackward0>), 'rewards_j': tensor([[-0.3184],\n",
      "        [-0.4727],\n",
      "        [-0.1084],\n",
      "        [-0.1357]], device='cuda:0', dtype=torch.bfloat16,\n",
      "       grad_fn=<AddmmBackward0>), 'rewards_k': tensor([[-1.1797],\n",
      "        [-1.0859],\n",
      "        [-0.2832],\n",
      "        [-0.2520]], device='cuda:0', dtype=torch.bfloat16,\n",
      "       grad_fn=<AddmmBackward0>)}\n"
     ]
    },
    {
     "data": {
      "text/html": [
       "\n",
       "    <div>\n",
       "      \n",
       "      <progress value='10' max='10' style='width:300px; height:20px; vertical-align: middle;'></progress>\n",
       "      [10/10 00:01, Epoch 0/1]\n",
       "    </div>\n",
       "    <table border=\"1\" class=\"dataframe\">\n",
       "  <thead>\n",
       " <tr style=\"text-align: left;\">\n",
       "      <th>Step</th>\n",
       "      <th>Training Loss</th>\n",
       "    </tr>\n",
       "  </thead>\n",
       "  <tbody>\n",
       "    <tr>\n",
       "      <td>1</td>\n",
       "      <td>0.507800</td>\n",
       "    </tr>\n",
       "    <tr>\n",
       "      <td>2</td>\n",
       "      <td>0.625000</td>\n",
       "    </tr>\n",
       "    <tr>\n",
       "      <td>3</td>\n",
       "      <td>0.558600</td>\n",
       "    </tr>\n",
       "    <tr>\n",
       "      <td>4</td>\n",
       "      <td>0.765600</td>\n",
       "    </tr>\n",
       "    <tr>\n",
       "      <td>5</td>\n",
       "      <td>0.609400</td>\n",
       "    </tr>\n",
       "    <tr>\n",
       "      <td>6</td>\n",
       "      <td>0.878900</td>\n",
       "    </tr>\n",
       "    <tr>\n",
       "      <td>7</td>\n",
       "      <td>0.800800</td>\n",
       "    </tr>\n",
       "    <tr>\n",
       "      <td>8</td>\n",
       "      <td>0.632800</td>\n",
       "    </tr>\n",
       "    <tr>\n",
       "      <td>9</td>\n",
       "      <td>0.558600</td>\n",
       "    </tr>\n",
       "    <tr>\n",
       "      <td>10</td>\n",
       "      <td>0.859400</td>\n",
       "    </tr>\n",
       "  </tbody>\n",
       "</table><p>"
      ],
      "text/plain": [
       "<IPython.core.display.HTML object>"
      ]
     },
     "metadata": {},
     "output_type": "display_data"
    },
    {
     "name": "stdout",
     "output_type": "stream",
     "text": [
      "shape rewards_j: torch.Size([4, 1])\n",
      "shape rewards_k: torch.Size([4, 1])\n",
      "return_outputs {'loss': tensor(0.6250, device='cuda:0', dtype=torch.bfloat16, grad_fn=<NegBackward0>), 'rewards_j': tensor([[-0.3086],\n",
      "        [-0.4941],\n",
      "        [-0.2480],\n",
      "        [-0.3613]], device='cuda:0', dtype=torch.bfloat16,\n",
      "       grad_fn=<AddmmBackward0>), 'rewards_k': tensor([[-1.1094],\n",
      "        [-0.2539],\n",
      "        [-0.3262],\n",
      "        [-0.4258]], device='cuda:0', dtype=torch.bfloat16,\n",
      "       grad_fn=<AddmmBackward0>)}\n",
      "shape rewards_j: torch.Size([4, 1])\n",
      "shape rewards_k: torch.Size([4, 1])\n",
      "return_outputs {'loss': tensor(0.5586, device='cuda:0', dtype=torch.bfloat16, grad_fn=<NegBackward0>), 'rewards_j': tensor([[-0.3438],\n",
      "        [-0.2012],\n",
      "        [-0.1699],\n",
      "        [-0.1621]], device='cuda:0', dtype=torch.bfloat16,\n",
      "       grad_fn=<AddmmBackward0>), 'rewards_k': tensor([[-0.9453],\n",
      "        [-0.1699],\n",
      "        [-0.8320],\n",
      "        [-0.2061]], device='cuda:0', dtype=torch.bfloat16,\n",
      "       grad_fn=<AddmmBackward0>)}\n",
      "shape rewards_j: torch.Size([4, 1])\n",
      "shape rewards_k: torch.Size([4, 1])\n",
      "return_outputs {'loss': tensor(0.7656, device='cuda:0', dtype=torch.bfloat16, grad_fn=<NegBackward0>), 'rewards_j': tensor([[-0.8164],\n",
      "        [-0.5547],\n",
      "        [-0.4395],\n",
      "        [-0.4590]], device='cuda:0', dtype=torch.bfloat16,\n",
      "       grad_fn=<AddmmBackward0>), 'rewards_k': tensor([[-0.2451],\n",
      "        [-0.2891],\n",
      "        [-1.2188],\n",
      "        [-0.1807]], device='cuda:0', dtype=torch.bfloat16,\n",
      "       grad_fn=<AddmmBackward0>)}\n",
      "shape rewards_j: torch.Size([4, 1])\n",
      "shape rewards_k: torch.Size([4, 1])\n",
      "return_outputs {'loss': tensor(0.6094, device='cuda:0', dtype=torch.bfloat16, grad_fn=<NegBackward0>), 'rewards_j': tensor([[-0.6914],\n",
      "        [-0.4785],\n",
      "        [-0.5156],\n",
      "        [-0.2119]], device='cuda:0', dtype=torch.bfloat16,\n",
      "       grad_fn=<AddmmBackward0>), 'rewards_k': tensor([[-0.4902],\n",
      "        [-1.2109],\n",
      "        [-0.7734],\n",
      "        [-0.2500]], device='cuda:0', dtype=torch.bfloat16,\n",
      "       grad_fn=<AddmmBackward0>)}\n",
      "shape rewards_j: torch.Size([4, 1])\n",
      "shape rewards_k: torch.Size([4, 1])\n",
      "return_outputs {'loss': tensor(0.8789, device='cuda:0', dtype=torch.bfloat16, grad_fn=<NegBackward0>), 'rewards_j': tensor([[-0.9570],\n",
      "        [-0.9570],\n",
      "        [-0.8945],\n",
      "        [-0.6719]], device='cuda:0', dtype=torch.bfloat16,\n",
      "       grad_fn=<AddmmBackward0>), 'rewards_k': tensor([[-1.1094],\n",
      "        [-0.2812],\n",
      "        [-0.5156],\n",
      "        [-0.2891]], device='cuda:0', dtype=torch.bfloat16,\n",
      "       grad_fn=<AddmmBackward0>)}\n",
      "shape rewards_j: torch.Size([4, 1])\n",
      "shape rewards_k: torch.Size([4, 1])\n",
      "return_outputs {'loss': tensor(0.8008, device='cuda:0', dtype=torch.bfloat16, grad_fn=<NegBackward0>), 'rewards_j': tensor([[-0.9062],\n",
      "        [-0.6133],\n",
      "        [-0.3828],\n",
      "        [-0.8789]], device='cuda:0', dtype=torch.bfloat16,\n",
      "       grad_fn=<AddmmBackward0>), 'rewards_k': tensor([[-0.5195],\n",
      "        [-0.2471],\n",
      "        [-0.2988],\n",
      "        [-0.9297]], device='cuda:0', dtype=torch.bfloat16,\n",
      "       grad_fn=<AddmmBackward0>)}\n",
      "shape rewards_j: torch.Size([4, 1])\n",
      "shape rewards_k: torch.Size([4, 1])\n",
      "return_outputs {'loss': tensor(0.6328, device='cuda:0', dtype=torch.bfloat16, grad_fn=<NegBackward0>), 'rewards_j': tensor([[-0.2852],\n",
      "        [-0.3418],\n",
      "        [-0.3496],\n",
      "        [-0.2461]], device='cuda:0', dtype=torch.bfloat16,\n",
      "       grad_fn=<AddmmBackward0>), 'rewards_k': tensor([[-0.7031],\n",
      "        [-0.2598],\n",
      "        [-0.4785],\n",
      "        [-0.2969]], device='cuda:0', dtype=torch.bfloat16,\n",
      "       grad_fn=<AddmmBackward0>)}\n",
      "shape rewards_j: torch.Size([4, 1])\n",
      "shape rewards_k: torch.Size([4, 1])\n",
      "return_outputs {'loss': tensor(0.5586, device='cuda:0', dtype=torch.bfloat16, grad_fn=<NegBackward0>), 'rewards_j': tensor([[-0.3008],\n",
      "        [-0.2334],\n",
      "        [-0.1846],\n",
      "        [-0.1631]], device='cuda:0', dtype=torch.bfloat16,\n",
      "       grad_fn=<AddmmBackward0>), 'rewards_k': tensor([[-1.0078],\n",
      "        [-0.2559],\n",
      "        [-0.6172],\n",
      "        [-0.2490]], device='cuda:0', dtype=torch.bfloat16,\n",
      "       grad_fn=<AddmmBackward0>)}\n",
      "shape rewards_j: torch.Size([4, 1])\n",
      "shape rewards_k: torch.Size([4, 1])\n",
      "return_outputs {'loss': tensor(0.8594, device='cuda:0', dtype=torch.bfloat16, grad_fn=<NegBackward0>), 'rewards_j': tensor([[-0.3379],\n",
      "        [-0.4746],\n",
      "        [-0.9102],\n",
      "        [-0.7969]], device='cuda:0', dtype=torch.bfloat16,\n",
      "       grad_fn=<AddmmBackward0>), 'rewards_k': tensor([[-0.1846],\n",
      "        [-0.2949],\n",
      "        [-0.5430],\n",
      "        [-0.2930]], device='cuda:0', dtype=torch.bfloat16,\n",
      "       grad_fn=<AddmmBackward0>)}\n"
     ]
    },
    {
     "data": {
      "text/plain": [
       "TrainOutput(global_step=10, training_loss=0.6796875, metrics={'train_runtime': 1.8562, 'train_samples_per_second': 21.549, 'train_steps_per_second': 5.387, 'total_flos': 0.0, 'train_loss': 0.6796875, 'epoch': 0.0})"
      ]
     },
     "execution_count": 93,
     "metadata": {},
     "output_type": "execute_result"
    }
   ],
   "source": [
    "reward_trainer.train(script_args.resume_from_checkpoint)"
   ]
  },
  {
   "cell_type": "code",
   "execution_count": 71,
   "id": "3bedef8f-208c-4193-93ec-35987cfd2b76",
   "metadata": {
    "tags": []
   },
   "outputs": [
    {
     "name": "stdout",
     "output_type": "stream",
     "text": [
      "Saving last checkpoint of the model to ./peft_ranking_reward_public_qanda/\n"
     ]
    },
    {
     "data": {
      "text/plain": [
       "('./peft_ranking_reward_public_qanda/tokenizer_config.json',\n",
       " './peft_ranking_reward_public_qanda/special_tokens_map.json',\n",
       " './peft_ranking_reward_public_qanda/vocab.json',\n",
       " './peft_ranking_reward_public_qanda/merges.txt',\n",
       " './peft_ranking_reward_public_qanda/added_tokens.json',\n",
       " './peft_ranking_reward_public_qanda/tokenizer.json')"
      ]
     },
     "execution_count": 71,
     "metadata": {},
     "output_type": "execute_result"
    }
   ],
   "source": [
    "print(\"Saving last checkpoint of the model to {}\".format(peft_ranking_reward_public_qanda_checkpoint))\n",
    "#peft_rl_ranking_reward_public_dataset_model.save_pretrained(peft_rl_ranking_reward_public_dataset_model_checkpoint_name)\n",
    "#reward_trainer.tokenizer.save_pretrained(peft_rl_ranking_reward_public_dataset_model)\n",
    "#reward_trainer.unwrap_model(reward_trainer.model).save_pretrained(peft_rl_ranking_reward_public_dataset_model) # merge?\n",
    "#reward_trainer.model.save_pretrained(peft_rl_ranking_reward_public_dataset_model_checkpoint_name)\n",
    "\n",
    "merged_model = peft_ranking_reward_public_qanda_model.merge_and_unload()\n",
    "merged_model.save_pretrained(peft_ranking_reward_public_qanda_checkpoint)\n",
    "tokenizer.save_pretrained(peft_ranking_reward_public_qanda_checkpoint)  #    output_name + \"rl_reward_model\")??"
   ]
  },
  {
   "cell_type": "code",
   "execution_count": 72,
   "id": "ef704c71-b0e2-43c5-96b2-d624036c8ff6",
   "metadata": {},
   "outputs": [
    {
     "name": "stdout",
     "output_type": "stream",
     "text": [
      "Stored 'peft_ranking_reward_public_qanda_checkpoint' (str)\n"
     ]
    }
   ],
   "source": [
    "%store peft_ranking_reward_public_qanda_checkpoint"
   ]
  },
  {
   "cell_type": "code",
   "execution_count": 73,
   "id": "a4b0a492-89da-485b-ad07-09a446212c76",
   "metadata": {
    "tags": []
   },
   "outputs": [],
   "source": [
    "peft_ranking_reward_public_qanda_model = AutoModelForSequenceClassification.from_pretrained(peft_ranking_reward_public_qanda_checkpoint, num_labels=1)"
   ]
  },
  {
   "cell_type": "code",
   "execution_count": 75,
   "id": "eaf3f6df-6ac7-4f4e-b010-ea260701233d",
   "metadata": {},
   "outputs": [],
   "source": [
    "from transformers import TextClassificationPipeline\n",
    "from transformers import pipeline\n",
    "\n",
    "tokenizer = AutoTokenizer.from_pretrained(peft_ranking_reward_public_qanda_checkpoint)\n",
    "\n",
    "peft_ranking_reward_public_qanda_pipeline = pipeline(\"text-classification\", tokenizer=tokenizer, model=peft_ranking_reward_public_qanda_checkpoint)"
   ]
  },
  {
   "cell_type": "code",
   "execution_count": 100,
   "id": "576964d9-e8ed-4770-bb4d-91bd1659203b",
   "metadata": {},
   "outputs": [
    {
     "data": {
      "text/plain": [
       "[{'label': 'LABEL_0', 'score': 0.49188265204429626}]"
      ]
     },
     "execution_count": 100,
     "metadata": {},
     "output_type": "execute_result"
    }
   ],
   "source": [
    "question = 'Who was not the President of the United States in 2010?'\n",
    "answer = 'Barack Obama'\n",
    "prompt_and_answer = \"Question: \" + question + \"\\n\\nAnswer: \" + answer + \"\\n\"\n",
    "peft_ranking_reward_public_qanda_pipeline.predict(prompt_and_answer)"
   ]
  },
  {
   "cell_type": "code",
   "execution_count": null,
   "id": "f63cf621-045f-45d8-9f5e-ca4013765b93",
   "metadata": {},
   "outputs": [],
   "source": []
  }
 ],
 "metadata": {
  "availableInstances": [
   {
    "_defaultOrder": 0,
    "_isFastLaunch": true,
    "category": "General purpose",
    "gpuNum": 0,
    "hideHardwareSpecs": false,
    "memoryGiB": 4,
    "name": "ml.t3.medium",
    "vcpuNum": 2
   },
   {
    "_defaultOrder": 1,
    "_isFastLaunch": false,
    "category": "General purpose",
    "gpuNum": 0,
    "hideHardwareSpecs": false,
    "memoryGiB": 8,
    "name": "ml.t3.large",
    "vcpuNum": 2
   },
   {
    "_defaultOrder": 2,
    "_isFastLaunch": false,
    "category": "General purpose",
    "gpuNum": 0,
    "hideHardwareSpecs": false,
    "memoryGiB": 16,
    "name": "ml.t3.xlarge",
    "vcpuNum": 4
   },
   {
    "_defaultOrder": 3,
    "_isFastLaunch": false,
    "category": "General purpose",
    "gpuNum": 0,
    "hideHardwareSpecs": false,
    "memoryGiB": 32,
    "name": "ml.t3.2xlarge",
    "vcpuNum": 8
   },
   {
    "_defaultOrder": 4,
    "_isFastLaunch": true,
    "category": "General purpose",
    "gpuNum": 0,
    "hideHardwareSpecs": false,
    "memoryGiB": 8,
    "name": "ml.m5.large",
    "vcpuNum": 2
   },
   {
    "_defaultOrder": 5,
    "_isFastLaunch": false,
    "category": "General purpose",
    "gpuNum": 0,
    "hideHardwareSpecs": false,
    "memoryGiB": 16,
    "name": "ml.m5.xlarge",
    "vcpuNum": 4
   },
   {
    "_defaultOrder": 6,
    "_isFastLaunch": false,
    "category": "General purpose",
    "gpuNum": 0,
    "hideHardwareSpecs": false,
    "memoryGiB": 32,
    "name": "ml.m5.2xlarge",
    "vcpuNum": 8
   },
   {
    "_defaultOrder": 7,
    "_isFastLaunch": false,
    "category": "General purpose",
    "gpuNum": 0,
    "hideHardwareSpecs": false,
    "memoryGiB": 64,
    "name": "ml.m5.4xlarge",
    "vcpuNum": 16
   },
   {
    "_defaultOrder": 8,
    "_isFastLaunch": false,
    "category": "General purpose",
    "gpuNum": 0,
    "hideHardwareSpecs": false,
    "memoryGiB": 128,
    "name": "ml.m5.8xlarge",
    "vcpuNum": 32
   },
   {
    "_defaultOrder": 9,
    "_isFastLaunch": false,
    "category": "General purpose",
    "gpuNum": 0,
    "hideHardwareSpecs": false,
    "memoryGiB": 192,
    "name": "ml.m5.12xlarge",
    "vcpuNum": 48
   },
   {
    "_defaultOrder": 10,
    "_isFastLaunch": false,
    "category": "General purpose",
    "gpuNum": 0,
    "hideHardwareSpecs": false,
    "memoryGiB": 256,
    "name": "ml.m5.16xlarge",
    "vcpuNum": 64
   },
   {
    "_defaultOrder": 11,
    "_isFastLaunch": false,
    "category": "General purpose",
    "gpuNum": 0,
    "hideHardwareSpecs": false,
    "memoryGiB": 384,
    "name": "ml.m5.24xlarge",
    "vcpuNum": 96
   },
   {
    "_defaultOrder": 12,
    "_isFastLaunch": false,
    "category": "General purpose",
    "gpuNum": 0,
    "hideHardwareSpecs": false,
    "memoryGiB": 8,
    "name": "ml.m5d.large",
    "vcpuNum": 2
   },
   {
    "_defaultOrder": 13,
    "_isFastLaunch": false,
    "category": "General purpose",
    "gpuNum": 0,
    "hideHardwareSpecs": false,
    "memoryGiB": 16,
    "name": "ml.m5d.xlarge",
    "vcpuNum": 4
   },
   {
    "_defaultOrder": 14,
    "_isFastLaunch": false,
    "category": "General purpose",
    "gpuNum": 0,
    "hideHardwareSpecs": false,
    "memoryGiB": 32,
    "name": "ml.m5d.2xlarge",
    "vcpuNum": 8
   },
   {
    "_defaultOrder": 15,
    "_isFastLaunch": false,
    "category": "General purpose",
    "gpuNum": 0,
    "hideHardwareSpecs": false,
    "memoryGiB": 64,
    "name": "ml.m5d.4xlarge",
    "vcpuNum": 16
   },
   {
    "_defaultOrder": 16,
    "_isFastLaunch": false,
    "category": "General purpose",
    "gpuNum": 0,
    "hideHardwareSpecs": false,
    "memoryGiB": 128,
    "name": "ml.m5d.8xlarge",
    "vcpuNum": 32
   },
   {
    "_defaultOrder": 17,
    "_isFastLaunch": false,
    "category": "General purpose",
    "gpuNum": 0,
    "hideHardwareSpecs": false,
    "memoryGiB": 192,
    "name": "ml.m5d.12xlarge",
    "vcpuNum": 48
   },
   {
    "_defaultOrder": 18,
    "_isFastLaunch": false,
    "category": "General purpose",
    "gpuNum": 0,
    "hideHardwareSpecs": false,
    "memoryGiB": 256,
    "name": "ml.m5d.16xlarge",
    "vcpuNum": 64
   },
   {
    "_defaultOrder": 19,
    "_isFastLaunch": false,
    "category": "General purpose",
    "gpuNum": 0,
    "hideHardwareSpecs": false,
    "memoryGiB": 384,
    "name": "ml.m5d.24xlarge",
    "vcpuNum": 96
   },
   {
    "_defaultOrder": 20,
    "_isFastLaunch": false,
    "category": "General purpose",
    "gpuNum": 0,
    "hideHardwareSpecs": true,
    "memoryGiB": 0,
    "name": "ml.geospatial.interactive",
    "supportedImageNames": [
     "sagemaker-geospatial-v1-0"
    ],
    "vcpuNum": 0
   },
   {
    "_defaultOrder": 21,
    "_isFastLaunch": true,
    "category": "Compute optimized",
    "gpuNum": 0,
    "hideHardwareSpecs": false,
    "memoryGiB": 4,
    "name": "ml.c5.large",
    "vcpuNum": 2
   },
   {
    "_defaultOrder": 22,
    "_isFastLaunch": false,
    "category": "Compute optimized",
    "gpuNum": 0,
    "hideHardwareSpecs": false,
    "memoryGiB": 8,
    "name": "ml.c5.xlarge",
    "vcpuNum": 4
   },
   {
    "_defaultOrder": 23,
    "_isFastLaunch": false,
    "category": "Compute optimized",
    "gpuNum": 0,
    "hideHardwareSpecs": false,
    "memoryGiB": 16,
    "name": "ml.c5.2xlarge",
    "vcpuNum": 8
   },
   {
    "_defaultOrder": 24,
    "_isFastLaunch": false,
    "category": "Compute optimized",
    "gpuNum": 0,
    "hideHardwareSpecs": false,
    "memoryGiB": 32,
    "name": "ml.c5.4xlarge",
    "vcpuNum": 16
   },
   {
    "_defaultOrder": 25,
    "_isFastLaunch": false,
    "category": "Compute optimized",
    "gpuNum": 0,
    "hideHardwareSpecs": false,
    "memoryGiB": 72,
    "name": "ml.c5.9xlarge",
    "vcpuNum": 36
   },
   {
    "_defaultOrder": 26,
    "_isFastLaunch": false,
    "category": "Compute optimized",
    "gpuNum": 0,
    "hideHardwareSpecs": false,
    "memoryGiB": 96,
    "name": "ml.c5.12xlarge",
    "vcpuNum": 48
   },
   {
    "_defaultOrder": 27,
    "_isFastLaunch": false,
    "category": "Compute optimized",
    "gpuNum": 0,
    "hideHardwareSpecs": false,
    "memoryGiB": 144,
    "name": "ml.c5.18xlarge",
    "vcpuNum": 72
   },
   {
    "_defaultOrder": 28,
    "_isFastLaunch": false,
    "category": "Compute optimized",
    "gpuNum": 0,
    "hideHardwareSpecs": false,
    "memoryGiB": 192,
    "name": "ml.c5.24xlarge",
    "vcpuNum": 96
   },
   {
    "_defaultOrder": 29,
    "_isFastLaunch": true,
    "category": "Accelerated computing",
    "gpuNum": 1,
    "hideHardwareSpecs": false,
    "memoryGiB": 16,
    "name": "ml.g4dn.xlarge",
    "vcpuNum": 4
   },
   {
    "_defaultOrder": 30,
    "_isFastLaunch": false,
    "category": "Accelerated computing",
    "gpuNum": 1,
    "hideHardwareSpecs": false,
    "memoryGiB": 32,
    "name": "ml.g4dn.2xlarge",
    "vcpuNum": 8
   },
   {
    "_defaultOrder": 31,
    "_isFastLaunch": false,
    "category": "Accelerated computing",
    "gpuNum": 1,
    "hideHardwareSpecs": false,
    "memoryGiB": 64,
    "name": "ml.g4dn.4xlarge",
    "vcpuNum": 16
   },
   {
    "_defaultOrder": 32,
    "_isFastLaunch": false,
    "category": "Accelerated computing",
    "gpuNum": 1,
    "hideHardwareSpecs": false,
    "memoryGiB": 128,
    "name": "ml.g4dn.8xlarge",
    "vcpuNum": 32
   },
   {
    "_defaultOrder": 33,
    "_isFastLaunch": false,
    "category": "Accelerated computing",
    "gpuNum": 4,
    "hideHardwareSpecs": false,
    "memoryGiB": 192,
    "name": "ml.g4dn.12xlarge",
    "vcpuNum": 48
   },
   {
    "_defaultOrder": 34,
    "_isFastLaunch": false,
    "category": "Accelerated computing",
    "gpuNum": 1,
    "hideHardwareSpecs": false,
    "memoryGiB": 256,
    "name": "ml.g4dn.16xlarge",
    "vcpuNum": 64
   },
   {
    "_defaultOrder": 35,
    "_isFastLaunch": false,
    "category": "Accelerated computing",
    "gpuNum": 1,
    "hideHardwareSpecs": false,
    "memoryGiB": 61,
    "name": "ml.p3.2xlarge",
    "vcpuNum": 8
   },
   {
    "_defaultOrder": 36,
    "_isFastLaunch": false,
    "category": "Accelerated computing",
    "gpuNum": 4,
    "hideHardwareSpecs": false,
    "memoryGiB": 244,
    "name": "ml.p3.8xlarge",
    "vcpuNum": 32
   },
   {
    "_defaultOrder": 37,
    "_isFastLaunch": false,
    "category": "Accelerated computing",
    "gpuNum": 8,
    "hideHardwareSpecs": false,
    "memoryGiB": 488,
    "name": "ml.p3.16xlarge",
    "vcpuNum": 64
   },
   {
    "_defaultOrder": 38,
    "_isFastLaunch": false,
    "category": "Accelerated computing",
    "gpuNum": 8,
    "hideHardwareSpecs": false,
    "memoryGiB": 768,
    "name": "ml.p3dn.24xlarge",
    "vcpuNum": 96
   },
   {
    "_defaultOrder": 39,
    "_isFastLaunch": false,
    "category": "Memory Optimized",
    "gpuNum": 0,
    "hideHardwareSpecs": false,
    "memoryGiB": 16,
    "name": "ml.r5.large",
    "vcpuNum": 2
   },
   {
    "_defaultOrder": 40,
    "_isFastLaunch": false,
    "category": "Memory Optimized",
    "gpuNum": 0,
    "hideHardwareSpecs": false,
    "memoryGiB": 32,
    "name": "ml.r5.xlarge",
    "vcpuNum": 4
   },
   {
    "_defaultOrder": 41,
    "_isFastLaunch": false,
    "category": "Memory Optimized",
    "gpuNum": 0,
    "hideHardwareSpecs": false,
    "memoryGiB": 64,
    "name": "ml.r5.2xlarge",
    "vcpuNum": 8
   },
   {
    "_defaultOrder": 42,
    "_isFastLaunch": false,
    "category": "Memory Optimized",
    "gpuNum": 0,
    "hideHardwareSpecs": false,
    "memoryGiB": 128,
    "name": "ml.r5.4xlarge",
    "vcpuNum": 16
   },
   {
    "_defaultOrder": 43,
    "_isFastLaunch": false,
    "category": "Memory Optimized",
    "gpuNum": 0,
    "hideHardwareSpecs": false,
    "memoryGiB": 256,
    "name": "ml.r5.8xlarge",
    "vcpuNum": 32
   },
   {
    "_defaultOrder": 44,
    "_isFastLaunch": false,
    "category": "Memory Optimized",
    "gpuNum": 0,
    "hideHardwareSpecs": false,
    "memoryGiB": 384,
    "name": "ml.r5.12xlarge",
    "vcpuNum": 48
   },
   {
    "_defaultOrder": 45,
    "_isFastLaunch": false,
    "category": "Memory Optimized",
    "gpuNum": 0,
    "hideHardwareSpecs": false,
    "memoryGiB": 512,
    "name": "ml.r5.16xlarge",
    "vcpuNum": 64
   },
   {
    "_defaultOrder": 46,
    "_isFastLaunch": false,
    "category": "Memory Optimized",
    "gpuNum": 0,
    "hideHardwareSpecs": false,
    "memoryGiB": 768,
    "name": "ml.r5.24xlarge",
    "vcpuNum": 96
   },
   {
    "_defaultOrder": 47,
    "_isFastLaunch": false,
    "category": "Accelerated computing",
    "gpuNum": 1,
    "hideHardwareSpecs": false,
    "memoryGiB": 16,
    "name": "ml.g5.xlarge",
    "vcpuNum": 4
   },
   {
    "_defaultOrder": 48,
    "_isFastLaunch": false,
    "category": "Accelerated computing",
    "gpuNum": 1,
    "hideHardwareSpecs": false,
    "memoryGiB": 32,
    "name": "ml.g5.2xlarge",
    "vcpuNum": 8
   },
   {
    "_defaultOrder": 49,
    "_isFastLaunch": false,
    "category": "Accelerated computing",
    "gpuNum": 1,
    "hideHardwareSpecs": false,
    "memoryGiB": 64,
    "name": "ml.g5.4xlarge",
    "vcpuNum": 16
   },
   {
    "_defaultOrder": 50,
    "_isFastLaunch": false,
    "category": "Accelerated computing",
    "gpuNum": 1,
    "hideHardwareSpecs": false,
    "memoryGiB": 128,
    "name": "ml.g5.8xlarge",
    "vcpuNum": 32
   },
   {
    "_defaultOrder": 51,
    "_isFastLaunch": false,
    "category": "Accelerated computing",
    "gpuNum": 1,
    "hideHardwareSpecs": false,
    "memoryGiB": 256,
    "name": "ml.g5.16xlarge",
    "vcpuNum": 64
   },
   {
    "_defaultOrder": 52,
    "_isFastLaunch": false,
    "category": "Accelerated computing",
    "gpuNum": 4,
    "hideHardwareSpecs": false,
    "memoryGiB": 192,
    "name": "ml.g5.12xlarge",
    "vcpuNum": 48
   },
   {
    "_defaultOrder": 53,
    "_isFastLaunch": false,
    "category": "Accelerated computing",
    "gpuNum": 4,
    "hideHardwareSpecs": false,
    "memoryGiB": 384,
    "name": "ml.g5.24xlarge",
    "vcpuNum": 96
   },
   {
    "_defaultOrder": 54,
    "_isFastLaunch": false,
    "category": "Accelerated computing",
    "gpuNum": 8,
    "hideHardwareSpecs": false,
    "memoryGiB": 768,
    "name": "ml.g5.48xlarge",
    "vcpuNum": 192
   }
  ],
  "instance_type": "ml.g5.2xlarge",
  "kernelspec": {
   "display_name": "Python 3 (Data Science)",
   "language": "python",
   "name": "python3__SAGEMAKER_INTERNAL__arn:aws:sagemaker:us-east-1:081325390199:image/datascience-1.0"
  },
  "language_info": {
   "codemirror_mode": {
    "name": "ipython",
    "version": 3
   },
   "file_extension": ".py",
   "mimetype": "text/x-python",
   "name": "python",
   "nbconvert_exporter": "python",
   "pygments_lexer": "ipython3",
   "version": "3.7.10"
  }
 },
 "nbformat": 4,
 "nbformat_minor": 5
}
