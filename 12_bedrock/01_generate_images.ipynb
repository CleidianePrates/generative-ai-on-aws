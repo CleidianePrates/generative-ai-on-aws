{
 "cells": [
  {
   "cell_type": "markdown",
   "id": "powered-display",
   "metadata": {},
   "source": [
    "# Introduction to Bedrock - Generating images using Stable Diffusion"
   ]
  },
  {
   "cell_type": "markdown",
   "id": "tough-dublin",
   "metadata": {
    "tags": []
   },
   "source": [
    "--- \n",
    "\n",
    "In this demo notebook, we demonstrate how to use the Bedrock Python SDK for a image generation task. We show how to use The Stable Diffusion foundational model to create images\n",
    "\n",
    "---"
   ]
  },
  {
   "cell_type": "markdown",
   "id": "pretty-rugby",
   "metadata": {},
   "source": [
    "Note: This notebook was tested in Amazon SageMaker Studio with Python 3 (Data Science 2.0) kernel."
   ]
  },
  {
   "cell_type": "markdown",
   "id": "usual-restaurant",
   "metadata": {},
   "source": [
    "1. [Set Up](#1.-Set-Up-and-API-walkthrough)\n",
    "2. [Image Creation](#2.-Generate-Images-with-Text)\n",
    "3. [Image to Image](#3.-Image-to-Image) "
   ]
  },
  {
   "cell_type": "markdown",
   "id": "nutritional-european",
   "metadata": {},
   "source": [
    "## 1. Set Up and API walkthrough"
   ]
  },
  {
   "cell_type": "markdown",
   "id": "obvious-enemy",
   "metadata": {},
   "source": [
    "---\n",
    "Before executing the notebook for the first time, execute this cell to add bedrock extensions to the Python boto3 SDK\n",
    "\n",
    "---"
   ]
  },
  {
   "cell_type": "code",
   "execution_count": null,
   "id": "unexpected-christopher",
   "metadata": {
    "tags": []
   },
   "outputs": [],
   "source": [
    "# !pwd\n",
    "# !python3 -m pip install ../bedrock-python-sdk/boto3-1.26.142-py3-none-any.whl\n",
    "# !python3 -m pip install ../bedrock-python-sdk/botocore-1.29.142-py3-none-any.whl"
   ]
  },
  {
   "cell_type": "markdown",
   "id": "deadly-remains",
   "metadata": {},
   "source": [
    "#### Now let's set up our connection to the Amazon Bedrock SDK using Boto3"
   ]
  },
  {
   "cell_type": "code",
   "execution_count": null,
   "id": "studied-morrison",
   "metadata": {
    "tags": []
   },
   "outputs": [],
   "source": [
    "import boto3\n",
    "import json\n",
    "bedrock = boto3.client(service_name='bedrock',region_name='us-east-1',endpoint_url='https://bedrock.us-east-1.amazonaws.com')"
   ]
  },
  {
   "cell_type": "markdown",
   "id": "distributed-mortality",
   "metadata": {},
   "source": [
    "#### We can validate our connection by testing out the _list_foundation_models()_ method, which will tell us all the models available for us to use "
   ]
  },
  {
   "cell_type": "code",
   "execution_count": null,
   "id": "complete-tractor",
   "metadata": {
    "tags": []
   },
   "outputs": [],
   "source": [
    "bedrock.list_foundation_models()"
   ]
  },
  {
   "cell_type": "markdown",
   "id": "original-infrared",
   "metadata": {},
   "source": [
    "#### In this Notebook we will be using the invoke_model() method of Amazon Bedrock. This will be the primary method we use for most of our Image  Generation and Processing tasks. "
   ]
  },
  {
   "cell_type": "markdown",
   "id": "valuable-commons",
   "metadata": {},
   "source": [
    "##### The mandatory parameters required to use this method are, where _modelId_ represents the Amazon Bedrock model ARN, and _body_ which is the prompt for our task. The _body_ prompt will change depending on the foundational model provider selected. We walk through this in detail below\n",
    "\n",
    "```\n",
    "{\n",
    "   modelId= model_id,\n",
    "   contentType= \"application/json\",\n",
    "   accept= \"application/json\",\n",
    "   body=body\n",
    "}\n",
    "\n",
    "```"
   ]
  },
  {
   "cell_type": "markdown",
   "id": "sharing-experiment",
   "metadata": {},
   "source": [
    "## 2. Generate Images with Text"
   ]
  },
  {
   "cell_type": "markdown",
   "id": "posted-liberal",
   "metadata": {},
   "source": [
    "#### Let's now try out the Stable Diffusion model in Amazon Bedrock to generate some images with text"
   ]
  },
  {
   "cell_type": "code",
   "execution_count": null,
   "id": "higher-practice",
   "metadata": {
    "tags": []
   },
   "outputs": [],
   "source": [
    "# prompt_data =\"\"\"Middle age man walking through time square on a snowy day\"\"\" #If you'd like to try your own prompt, edit this parameter!"
   ]
  },
  {
   "cell_type": "code",
   "execution_count": null,
   "id": "13d74828-bb0c-49e8-91fe-4271bda5321d",
   "metadata": {
    "tags": []
   },
   "outputs": [],
   "source": [
    "prompt_data =\"Golden retriever playing catch at a tropical, sunny beach with palm trees in the background.\""
   ]
  },
  {
   "cell_type": "code",
   "execution_count": null,
   "id": "a2629904-8bca-4978-8839-063f1bcedffe",
   "metadata": {
    "tags": []
   },
   "outputs": [],
   "source": [
    "negative_prompts = [\n",
    "    \"3d render\", \"smooth\", \"plastic\", \"blurry\", \"grainy\", \n",
    "    \"low-resolution\", \"anime\", \"deep-fried\", \"oversaturated\", \n",
    "    \"poorly rendered\", \"poor background details\", \"poorly drawn dog\",\n",
    "    \"disfigured dog features\"\n",
    "    ]"
   ]
  },
  {
   "cell_type": "code",
   "execution_count": null,
   "id": "de4384aa-3946-4ad8-b2ba-90b71f9c7198",
   "metadata": {
    "tags": []
   },
   "outputs": [],
   "source": [
    "style_preset = \"photographic\""
   ]
  },
  {
   "cell_type": "code",
   "execution_count": null,
   "id": "2aa32b68-fde6-4f23-b302-e6026d1a01e3",
   "metadata": {
    "tags": []
   },
   "outputs": [],
   "source": [
    "from botocore.config import Config\n",
    "from botocore.exceptions import ClientError\n",
    "import json\n",
    "from PIL import Image\n",
    "from io import BytesIO\n",
    "import base64\n",
    "from base64 import b64encode\n",
    "from base64 import b64decode\n",
    "import boto3\n",
    "\n",
    "\n",
    "body = json.dumps(\n",
    "    {\"text_prompts\":[{\"text\":prompt_data}],\n",
    "     \"style_preset\": style_preset,\n",
    "     \"negative_prompts\": negative_prompts\n",
    "    }\n",
    ") \n",
    "\n",
    "modelId = 'stability.stable-diffusion-xl'\n",
    "accept = 'application/json'\n",
    "contentType = 'application/json'"
   ]
  },
  {
   "cell_type": "code",
   "execution_count": null,
   "id": "shaped-trance",
   "metadata": {
    "tags": []
   },
   "outputs": [],
   "source": [
    "response = bedrock.invoke_model(body=body, modelId=modelId, accept=accept, contentType=contentType)\n",
    "response = json.loads(response.get('body').read())\n",
    "images = response.get('artifacts')\n",
    "\n",
    "image = Image.open(BytesIO(b64decode(images[0].get('base64'))))\n",
    "image.save(\"generated_image-.png\")\n",
    "display(image)"
   ]
  },
  {
   "cell_type": "markdown",
   "id": "later-adaptation",
   "metadata": {},
   "source": [
    "## 3. Image to Image"
   ]
  },
  {
   "cell_type": "markdown",
   "id": "secret-aging",
   "metadata": {},
   "source": [
    "#### Stable Diffusion let's us do some interesting stuff with our images like adding new characters or modifying scenery let's give it a try"
   ]
  },
  {
   "cell_type": "code",
   "execution_count": null,
   "id": "answering-western",
   "metadata": {
    "tags": []
   },
   "outputs": [],
   "source": [
    "#prompt_data = \"\"\"Change the character to a grandma and her grandaughter on a snowy day\"\"\" #If you'd like to try your own prompt, edit this parameter!"
   ]
  },
  {
   "cell_type": "code",
   "execution_count": null,
   "id": "e1992761-ce69-47a1-8a31-5e6b88cb587d",
   "metadata": {
    "tags": []
   },
   "outputs": [],
   "source": [
    "prompt_data = \"Change the dog to be a poodle\""
   ]
  },
  {
   "cell_type": "code",
   "execution_count": null,
   "id": "criminal-album",
   "metadata": {
    "tags": []
   },
   "outputs": [],
   "source": [
    "buffer = BytesIO()\n",
    "img = Image.open(\"generated_image.png\")\n",
    "img.save(buffer, format=\"PNG\")\n",
    "img_bytes = buffer.getvalue()\n",
    "\n",
    "body = json.dumps(\n",
    "    {\"text_prompts\":[{\"text\": prompt_data }],\n",
    "     \"init_image\": base64.b64encode(img_bytes).decode(),\n",
    "     \"style_preset\": style_preset,\n",
    "     \"negative_prompts\": negative_prompts\n",
    "    }\n",
    ")\n",
    "modelId = 'stability.stable-diffusion-xl'\n",
    "\n",
    "try: \n",
    "    response = bedrock.invoke_model(body=body, modelId=modelId, contentType=\"application/json\", accept=\"image/png\")\n",
    "except ClientError as error:\n",
    "    print(error.response)\n",
    "\n",
    "if response['contentType'] == 'image/png':\n",
    "    # Get the response body as bytes\n",
    "    image_data = response['body'].read()\n",
    "else:\n",
    "    image_data = response['body']\n",
    "\n",
    "image = Image.open(BytesIO(image_data))\n",
    "file_name = 'converted.png'\n",
    "#save file\n",
    "image.save(file_name)\n",
    "display(image)"
   ]
  },
  {
   "cell_type": "markdown",
   "id": "52feb154-1586-49f8-8797-1556731243d5",
   "metadata": {},
   "source": [
    "## Create different image from Golden Retriever"
   ]
  },
  {
   "cell_type": "code",
   "execution_count": null,
   "id": "b801eadf-4b08-4850-81ad-60a063a0fbc9",
   "metadata": {
    "tags": []
   },
   "outputs": [],
   "source": [
    "prompt_data = \"Remove the ball from the image\""
   ]
  },
  {
   "cell_type": "code",
   "execution_count": null,
   "id": "2e74108f-503c-4eca-bf68-cb150a1d46b5",
   "metadata": {
    "tags": []
   },
   "outputs": [],
   "source": [
    "buffer = BytesIO()\n",
    "img = Image.open(\"generated_image.png\")\n",
    "img.save(buffer, format=\"PNG\")\n",
    "img_bytes = buffer.getvalue()\n",
    "\n",
    "body = json.dumps(\n",
    "    {\"text_prompts\":[{\"text\": prompt_data }],\n",
    "     \"init_image\": base64.b64encode(img_bytes).decode(),\n",
    "     \"style_preset\": style_preset,\n",
    "     \"negative_prompts\": negative_prompts\n",
    "    }\n",
    ")\n",
    "modelId = 'stability.stable-diffusion-xl'\n",
    "\n",
    "try: \n",
    "    response = bedrock.invoke_model(body=body, modelId=modelId, contentType=\"application/json\", accept=\"image/png\")\n",
    "except ClientError as error:\n",
    "    print(error.response)\n",
    "\n",
    "if response['contentType'] == 'image/png':\n",
    "    # Get the response body as bytes\n",
    "    image_data = response['body'].read()\n",
    "else:\n",
    "    image_data = response['body']\n",
    "\n",
    "image = Image.open(BytesIO(image_data))\n",
    "file_name = 'converted-to-mountains.png'\n",
    "#save file\n",
    "image.save(file_name)\n",
    "display(image)"
   ]
  },
  {
   "cell_type": "code",
   "execution_count": null,
   "id": "c8b8ff3c-ad50-4923-b93d-be011b7b51ed",
   "metadata": {
    "tags": []
   },
   "outputs": [],
   "source": [
    "prompt_data = \"Upscale to 8K resolution\""
   ]
  },
  {
   "cell_type": "code",
   "execution_count": null,
   "id": "0793ad43-1d37-49b8-aac5-f997f9488f23",
   "metadata": {
    "tags": []
   },
   "outputs": [],
   "source": [
    "buffer = BytesIO()\n",
    "img = Image.open(\"generated_image.png\")\n",
    "img.save(buffer, format=\"PNG\")\n",
    "img_bytes = buffer.getvalue()\n",
    "\n",
    "body = json.dumps(\n",
    "    {\"text_prompts\":[{\"text\": prompt_data }],\n",
    "     \"init_image\": base64.b64encode(img_bytes).decode(),\n",
    "     \"style_preset\": style_preset,\n",
    "     \"negative_prompts\": negative_prompts\n",
    "    }\n",
    ")\n",
    "modelId = 'stability.stable-diffusion-xl'\n",
    "\n",
    "try: \n",
    "    response = bedrock.invoke_model(body=body, modelId=modelId, contentType=\"application/json\", accept=\"image/png\")\n",
    "except ClientError as error:\n",
    "    print(error.response)\n",
    "\n",
    "if response['contentType'] == 'image/png':\n",
    "    # Get the response body as bytes\n",
    "    image_data = response['body'].read()\n",
    "else:\n",
    "    image_data = response['body']\n",
    "\n",
    "image = Image.open(BytesIO(image_data))\n",
    "file_name = 'upscaled-to-8k.png'\n",
    "#save file\n",
    "image.save(file_name)\n",
    "display(image)"
   ]
  },
  {
   "cell_type": "code",
   "execution_count": null,
   "id": "1dea602d-8d4c-4fb6-98ee-474422152247",
   "metadata": {},
   "outputs": [],
   "source": []
  }
 ],
 "metadata": {
  "availableInstances": [
   {
    "_defaultOrder": 0,
    "_isFastLaunch": true,
    "category": "General purpose",
    "gpuNum": 0,
    "hideHardwareSpecs": false,
    "memoryGiB": 4,
    "name": "ml.t3.medium",
    "vcpuNum": 2
   },
   {
    "_defaultOrder": 1,
    "_isFastLaunch": false,
    "category": "General purpose",
    "gpuNum": 0,
    "hideHardwareSpecs": false,
    "memoryGiB": 8,
    "name": "ml.t3.large",
    "vcpuNum": 2
   },
   {
    "_defaultOrder": 2,
    "_isFastLaunch": false,
    "category": "General purpose",
    "gpuNum": 0,
    "hideHardwareSpecs": false,
    "memoryGiB": 16,
    "name": "ml.t3.xlarge",
    "vcpuNum": 4
   },
   {
    "_defaultOrder": 3,
    "_isFastLaunch": false,
    "category": "General purpose",
    "gpuNum": 0,
    "hideHardwareSpecs": false,
    "memoryGiB": 32,
    "name": "ml.t3.2xlarge",
    "vcpuNum": 8
   },
   {
    "_defaultOrder": 4,
    "_isFastLaunch": true,
    "category": "General purpose",
    "gpuNum": 0,
    "hideHardwareSpecs": false,
    "memoryGiB": 8,
    "name": "ml.m5.large",
    "vcpuNum": 2
   },
   {
    "_defaultOrder": 5,
    "_isFastLaunch": false,
    "category": "General purpose",
    "gpuNum": 0,
    "hideHardwareSpecs": false,
    "memoryGiB": 16,
    "name": "ml.m5.xlarge",
    "vcpuNum": 4
   },
   {
    "_defaultOrder": 6,
    "_isFastLaunch": false,
    "category": "General purpose",
    "gpuNum": 0,
    "hideHardwareSpecs": false,
    "memoryGiB": 32,
    "name": "ml.m5.2xlarge",
    "vcpuNum": 8
   },
   {
    "_defaultOrder": 7,
    "_isFastLaunch": false,
    "category": "General purpose",
    "gpuNum": 0,
    "hideHardwareSpecs": false,
    "memoryGiB": 64,
    "name": "ml.m5.4xlarge",
    "vcpuNum": 16
   },
   {
    "_defaultOrder": 8,
    "_isFastLaunch": false,
    "category": "General purpose",
    "gpuNum": 0,
    "hideHardwareSpecs": false,
    "memoryGiB": 128,
    "name": "ml.m5.8xlarge",
    "vcpuNum": 32
   },
   {
    "_defaultOrder": 9,
    "_isFastLaunch": false,
    "category": "General purpose",
    "gpuNum": 0,
    "hideHardwareSpecs": false,
    "memoryGiB": 192,
    "name": "ml.m5.12xlarge",
    "vcpuNum": 48
   },
   {
    "_defaultOrder": 10,
    "_isFastLaunch": false,
    "category": "General purpose",
    "gpuNum": 0,
    "hideHardwareSpecs": false,
    "memoryGiB": 256,
    "name": "ml.m5.16xlarge",
    "vcpuNum": 64
   },
   {
    "_defaultOrder": 11,
    "_isFastLaunch": false,
    "category": "General purpose",
    "gpuNum": 0,
    "hideHardwareSpecs": false,
    "memoryGiB": 384,
    "name": "ml.m5.24xlarge",
    "vcpuNum": 96
   },
   {
    "_defaultOrder": 12,
    "_isFastLaunch": false,
    "category": "General purpose",
    "gpuNum": 0,
    "hideHardwareSpecs": false,
    "memoryGiB": 8,
    "name": "ml.m5d.large",
    "vcpuNum": 2
   },
   {
    "_defaultOrder": 13,
    "_isFastLaunch": false,
    "category": "General purpose",
    "gpuNum": 0,
    "hideHardwareSpecs": false,
    "memoryGiB": 16,
    "name": "ml.m5d.xlarge",
    "vcpuNum": 4
   },
   {
    "_defaultOrder": 14,
    "_isFastLaunch": false,
    "category": "General purpose",
    "gpuNum": 0,
    "hideHardwareSpecs": false,
    "memoryGiB": 32,
    "name": "ml.m5d.2xlarge",
    "vcpuNum": 8
   },
   {
    "_defaultOrder": 15,
    "_isFastLaunch": false,
    "category": "General purpose",
    "gpuNum": 0,
    "hideHardwareSpecs": false,
    "memoryGiB": 64,
    "name": "ml.m5d.4xlarge",
    "vcpuNum": 16
   },
   {
    "_defaultOrder": 16,
    "_isFastLaunch": false,
    "category": "General purpose",
    "gpuNum": 0,
    "hideHardwareSpecs": false,
    "memoryGiB": 128,
    "name": "ml.m5d.8xlarge",
    "vcpuNum": 32
   },
   {
    "_defaultOrder": 17,
    "_isFastLaunch": false,
    "category": "General purpose",
    "gpuNum": 0,
    "hideHardwareSpecs": false,
    "memoryGiB": 192,
    "name": "ml.m5d.12xlarge",
    "vcpuNum": 48
   },
   {
    "_defaultOrder": 18,
    "_isFastLaunch": false,
    "category": "General purpose",
    "gpuNum": 0,
    "hideHardwareSpecs": false,
    "memoryGiB": 256,
    "name": "ml.m5d.16xlarge",
    "vcpuNum": 64
   },
   {
    "_defaultOrder": 19,
    "_isFastLaunch": false,
    "category": "General purpose",
    "gpuNum": 0,
    "hideHardwareSpecs": false,
    "memoryGiB": 384,
    "name": "ml.m5d.24xlarge",
    "vcpuNum": 96
   },
   {
    "_defaultOrder": 20,
    "_isFastLaunch": false,
    "category": "General purpose",
    "gpuNum": 0,
    "hideHardwareSpecs": true,
    "memoryGiB": 0,
    "name": "ml.geospatial.interactive",
    "supportedImageNames": [
     "sagemaker-geospatial-v1-0"
    ],
    "vcpuNum": 0
   },
   {
    "_defaultOrder": 21,
    "_isFastLaunch": true,
    "category": "Compute optimized",
    "gpuNum": 0,
    "hideHardwareSpecs": false,
    "memoryGiB": 4,
    "name": "ml.c5.large",
    "vcpuNum": 2
   },
   {
    "_defaultOrder": 22,
    "_isFastLaunch": false,
    "category": "Compute optimized",
    "gpuNum": 0,
    "hideHardwareSpecs": false,
    "memoryGiB": 8,
    "name": "ml.c5.xlarge",
    "vcpuNum": 4
   },
   {
    "_defaultOrder": 23,
    "_isFastLaunch": false,
    "category": "Compute optimized",
    "gpuNum": 0,
    "hideHardwareSpecs": false,
    "memoryGiB": 16,
    "name": "ml.c5.2xlarge",
    "vcpuNum": 8
   },
   {
    "_defaultOrder": 24,
    "_isFastLaunch": false,
    "category": "Compute optimized",
    "gpuNum": 0,
    "hideHardwareSpecs": false,
    "memoryGiB": 32,
    "name": "ml.c5.4xlarge",
    "vcpuNum": 16
   },
   {
    "_defaultOrder": 25,
    "_isFastLaunch": false,
    "category": "Compute optimized",
    "gpuNum": 0,
    "hideHardwareSpecs": false,
    "memoryGiB": 72,
    "name": "ml.c5.9xlarge",
    "vcpuNum": 36
   },
   {
    "_defaultOrder": 26,
    "_isFastLaunch": false,
    "category": "Compute optimized",
    "gpuNum": 0,
    "hideHardwareSpecs": false,
    "memoryGiB": 96,
    "name": "ml.c5.12xlarge",
    "vcpuNum": 48
   },
   {
    "_defaultOrder": 27,
    "_isFastLaunch": false,
    "category": "Compute optimized",
    "gpuNum": 0,
    "hideHardwareSpecs": false,
    "memoryGiB": 144,
    "name": "ml.c5.18xlarge",
    "vcpuNum": 72
   },
   {
    "_defaultOrder": 28,
    "_isFastLaunch": false,
    "category": "Compute optimized",
    "gpuNum": 0,
    "hideHardwareSpecs": false,
    "memoryGiB": 192,
    "name": "ml.c5.24xlarge",
    "vcpuNum": 96
   },
   {
    "_defaultOrder": 29,
    "_isFastLaunch": true,
    "category": "Accelerated computing",
    "gpuNum": 1,
    "hideHardwareSpecs": false,
    "memoryGiB": 16,
    "name": "ml.g4dn.xlarge",
    "vcpuNum": 4
   },
   {
    "_defaultOrder": 30,
    "_isFastLaunch": false,
    "category": "Accelerated computing",
    "gpuNum": 1,
    "hideHardwareSpecs": false,
    "memoryGiB": 32,
    "name": "ml.g4dn.2xlarge",
    "vcpuNum": 8
   },
   {
    "_defaultOrder": 31,
    "_isFastLaunch": false,
    "category": "Accelerated computing",
    "gpuNum": 1,
    "hideHardwareSpecs": false,
    "memoryGiB": 64,
    "name": "ml.g4dn.4xlarge",
    "vcpuNum": 16
   },
   {
    "_defaultOrder": 32,
    "_isFastLaunch": false,
    "category": "Accelerated computing",
    "gpuNum": 1,
    "hideHardwareSpecs": false,
    "memoryGiB": 128,
    "name": "ml.g4dn.8xlarge",
    "vcpuNum": 32
   },
   {
    "_defaultOrder": 33,
    "_isFastLaunch": false,
    "category": "Accelerated computing",
    "gpuNum": 4,
    "hideHardwareSpecs": false,
    "memoryGiB": 192,
    "name": "ml.g4dn.12xlarge",
    "vcpuNum": 48
   },
   {
    "_defaultOrder": 34,
    "_isFastLaunch": false,
    "category": "Accelerated computing",
    "gpuNum": 1,
    "hideHardwareSpecs": false,
    "memoryGiB": 256,
    "name": "ml.g4dn.16xlarge",
    "vcpuNum": 64
   },
   {
    "_defaultOrder": 35,
    "_isFastLaunch": false,
    "category": "Accelerated computing",
    "gpuNum": 1,
    "hideHardwareSpecs": false,
    "memoryGiB": 61,
    "name": "ml.p3.2xlarge",
    "vcpuNum": 8
   },
   {
    "_defaultOrder": 36,
    "_isFastLaunch": false,
    "category": "Accelerated computing",
    "gpuNum": 4,
    "hideHardwareSpecs": false,
    "memoryGiB": 244,
    "name": "ml.p3.8xlarge",
    "vcpuNum": 32
   },
   {
    "_defaultOrder": 37,
    "_isFastLaunch": false,
    "category": "Accelerated computing",
    "gpuNum": 8,
    "hideHardwareSpecs": false,
    "memoryGiB": 488,
    "name": "ml.p3.16xlarge",
    "vcpuNum": 64
   },
   {
    "_defaultOrder": 38,
    "_isFastLaunch": false,
    "category": "Accelerated computing",
    "gpuNum": 8,
    "hideHardwareSpecs": false,
    "memoryGiB": 768,
    "name": "ml.p3dn.24xlarge",
    "vcpuNum": 96
   },
   {
    "_defaultOrder": 39,
    "_isFastLaunch": false,
    "category": "Memory Optimized",
    "gpuNum": 0,
    "hideHardwareSpecs": false,
    "memoryGiB": 16,
    "name": "ml.r5.large",
    "vcpuNum": 2
   },
   {
    "_defaultOrder": 40,
    "_isFastLaunch": false,
    "category": "Memory Optimized",
    "gpuNum": 0,
    "hideHardwareSpecs": false,
    "memoryGiB": 32,
    "name": "ml.r5.xlarge",
    "vcpuNum": 4
   },
   {
    "_defaultOrder": 41,
    "_isFastLaunch": false,
    "category": "Memory Optimized",
    "gpuNum": 0,
    "hideHardwareSpecs": false,
    "memoryGiB": 64,
    "name": "ml.r5.2xlarge",
    "vcpuNum": 8
   },
   {
    "_defaultOrder": 42,
    "_isFastLaunch": false,
    "category": "Memory Optimized",
    "gpuNum": 0,
    "hideHardwareSpecs": false,
    "memoryGiB": 128,
    "name": "ml.r5.4xlarge",
    "vcpuNum": 16
   },
   {
    "_defaultOrder": 43,
    "_isFastLaunch": false,
    "category": "Memory Optimized",
    "gpuNum": 0,
    "hideHardwareSpecs": false,
    "memoryGiB": 256,
    "name": "ml.r5.8xlarge",
    "vcpuNum": 32
   },
   {
    "_defaultOrder": 44,
    "_isFastLaunch": false,
    "category": "Memory Optimized",
    "gpuNum": 0,
    "hideHardwareSpecs": false,
    "memoryGiB": 384,
    "name": "ml.r5.12xlarge",
    "vcpuNum": 48
   },
   {
    "_defaultOrder": 45,
    "_isFastLaunch": false,
    "category": "Memory Optimized",
    "gpuNum": 0,
    "hideHardwareSpecs": false,
    "memoryGiB": 512,
    "name": "ml.r5.16xlarge",
    "vcpuNum": 64
   },
   {
    "_defaultOrder": 46,
    "_isFastLaunch": false,
    "category": "Memory Optimized",
    "gpuNum": 0,
    "hideHardwareSpecs": false,
    "memoryGiB": 768,
    "name": "ml.r5.24xlarge",
    "vcpuNum": 96
   },
   {
    "_defaultOrder": 47,
    "_isFastLaunch": false,
    "category": "Accelerated computing",
    "gpuNum": 1,
    "hideHardwareSpecs": false,
    "memoryGiB": 16,
    "name": "ml.g5.xlarge",
    "vcpuNum": 4
   },
   {
    "_defaultOrder": 48,
    "_isFastLaunch": false,
    "category": "Accelerated computing",
    "gpuNum": 1,
    "hideHardwareSpecs": false,
    "memoryGiB": 32,
    "name": "ml.g5.2xlarge",
    "vcpuNum": 8
   },
   {
    "_defaultOrder": 49,
    "_isFastLaunch": false,
    "category": "Accelerated computing",
    "gpuNum": 1,
    "hideHardwareSpecs": false,
    "memoryGiB": 64,
    "name": "ml.g5.4xlarge",
    "vcpuNum": 16
   },
   {
    "_defaultOrder": 50,
    "_isFastLaunch": false,
    "category": "Accelerated computing",
    "gpuNum": 1,
    "hideHardwareSpecs": false,
    "memoryGiB": 128,
    "name": "ml.g5.8xlarge",
    "vcpuNum": 32
   },
   {
    "_defaultOrder": 51,
    "_isFastLaunch": false,
    "category": "Accelerated computing",
    "gpuNum": 1,
    "hideHardwareSpecs": false,
    "memoryGiB": 256,
    "name": "ml.g5.16xlarge",
    "vcpuNum": 64
   },
   {
    "_defaultOrder": 52,
    "_isFastLaunch": false,
    "category": "Accelerated computing",
    "gpuNum": 4,
    "hideHardwareSpecs": false,
    "memoryGiB": 192,
    "name": "ml.g5.12xlarge",
    "vcpuNum": 48
   },
   {
    "_defaultOrder": 53,
    "_isFastLaunch": false,
    "category": "Accelerated computing",
    "gpuNum": 4,
    "hideHardwareSpecs": false,
    "memoryGiB": 384,
    "name": "ml.g5.24xlarge",
    "vcpuNum": 96
   },
   {
    "_defaultOrder": 54,
    "_isFastLaunch": false,
    "category": "Accelerated computing",
    "gpuNum": 8,
    "hideHardwareSpecs": false,
    "memoryGiB": 768,
    "name": "ml.g5.48xlarge",
    "vcpuNum": 192
   },
   {
    "_defaultOrder": 55,
    "_isFastLaunch": false,
    "category": "Accelerated computing",
    "gpuNum": 8,
    "hideHardwareSpecs": false,
    "memoryGiB": 1152,
    "name": "ml.p4d.24xlarge",
    "vcpuNum": 96
   },
   {
    "_defaultOrder": 56,
    "_isFastLaunch": false,
    "category": "Accelerated computing",
    "gpuNum": 8,
    "hideHardwareSpecs": false,
    "memoryGiB": 1152,
    "name": "ml.p4de.24xlarge",
    "vcpuNum": 96
   }
  ],
  "instance_type": "ml.t3.medium",
  "kernelspec": {
   "display_name": "Python 3 (Data Science 3.0)",
   "language": "python",
   "name": "python3__SAGEMAKER_INTERNAL__arn:aws:sagemaker:us-east-1:081325390199:image/sagemaker-data-science-310-v1"
  },
  "language_info": {
   "codemirror_mode": {
    "name": "ipython",
    "version": 3
   },
   "file_extension": ".py",
   "mimetype": "text/x-python",
   "name": "python",
   "nbconvert_exporter": "python",
   "pygments_lexer": "ipython3",
   "version": "3.10.6"
  }
 },
 "nbformat": 4,
 "nbformat_minor": 5
}
