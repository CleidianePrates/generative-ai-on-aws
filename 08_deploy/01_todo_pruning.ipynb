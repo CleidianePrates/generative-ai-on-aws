{
 "cells": [
  {
   "cell_type": "code",
   "execution_count": null,
   "id": "0fbc4290-68fa-4fef-ae7b-1a9124cac6ce",
   "metadata": {},
   "outputs": [],
   "source": []
  }
 ],
 "metadata": {
  "instance_type": "ml.m5.2xlarge",
  "kernelspec": {
   "display_name": "",
   "name": ""
  },
  "language_info": {
   "name": ""
  }
 },
 "nbformat": 4,
 "nbformat_minor": 5
}
